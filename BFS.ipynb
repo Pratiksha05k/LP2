{
 "cells": [
  {
   "cell_type": "code",
   "execution_count": 1,
   "id": "c8e4aa7f-664f-40ad-8f24-3cb4df106051",
   "metadata": {},
   "outputs": [
    {
     "name": "stdin",
     "output_type": "stream",
     "text": [
      "Enter the number of nodes:  5\n",
      "Enter node name:  1\n",
      "Enter node name:  2\n",
      "Enter node name:  3\n",
      "Enter node name:  4\n",
      "Enter node name:  5\n",
      "Enter the number of edges:  5\n",
      "Enter edge (node1 node2):  1 2\n",
      "Enter edge (node1 node2):  1 3\n",
      "Enter edge (node1 node2):  4 5\n",
      "Enter edge (node1 node2):  2 3\n",
      "Enter edge (node1 node2):  3 5\n",
      "Enter the start node:  1\n"
     ]
    },
    {
     "name": "stdout",
     "output_type": "stream",
     "text": [
      "\n",
      "--- BFS Traversal ---\n",
      "Queue: ['1']\n",
      "Visiting: 1\n",
      "Adding 2 to the queue\n",
      "Adding 3 to the queue\n",
      "Queue: ['2', '3']\n",
      "Visiting: 2\n",
      "Queue: ['3']\n",
      "Visiting: 3\n",
      "Adding 5 to the queue\n",
      "Queue: ['5']\n",
      "Visiting: 5\n",
      "Adding 4 to the queue\n",
      "Queue: ['4']\n",
      "Visiting: 4\n",
      "Queue: []\n",
      "BFS: ['1', '2', '3', '5', '4']\n"
     ]
    }
   ],
   "source": [
    "from collections import deque\n",
    "\n",
    "def bfs(graph, start):\n",
    "    visited = set()\n",
    "    queue = deque([start])\n",
    "    visited.add(start)\n",
    "    bfs_result = []\n",
    "\n",
    "    print(\"\\n--- BFS Traversal ---\")\n",
    "    print(f\"Queue: {list(queue)}\")\n",
    "\n",
    "    while queue:\n",
    "        vertex = queue.popleft()\n",
    "        bfs_result.append(vertex)\n",
    "        print(f\"Visiting: {vertex}\")\n",
    "\n",
    "        for neighbor in graph[vertex]:\n",
    "            if neighbor not in visited:\n",
    "                visited.add(neighbor)\n",
    "                queue.append(neighbor)\n",
    "                print(f\"Adding {neighbor} to the queue\")\n",
    "        \n",
    "        print(f\"Queue: {list(queue)}\")\n",
    "\n",
    "    print(f\"BFS: {bfs_result}\")\n",
    "    return bfs_result\n",
    "def main():\n",
    "    # Take user input for graph structure\n",
    "    graph = {}\n",
    "    n = int(input(\"Enter the number of nodes: \"))\n",
    "    \n",
    "    for _ in range(n):\n",
    "        node = input(\"Enter node name: \")\n",
    "        graph[node] = []\n",
    "    \n",
    "    edges = int(input(\"Enter the number of edges: \"))\n",
    "    \n",
    "    for _ in range(edges):\n",
    "        node1, node2 = input(\"Enter edge (node1 node2): \").split()\n",
    "        graph[node1].append(node2)\n",
    "        graph[node2].append(node1)  # Undirected graph\n",
    "    \n",
    "    start_node = input(\"Enter the start node: \")\n",
    "\n",
    "    # BFS Traversals\n",
    "   \n",
    "    bfs(graph, start_node)\n",
    "\n",
    "if __name__ == \"__main__\":\n",
    "    main()"
   ]
  },
  {
   "cell_type": "code",
   "execution_count": null,
   "id": "ec3cf41e-6bb1-4cfc-b583-0aa7a12673ef",
   "metadata": {},
   "outputs": [],
   "source": []
  }
 ],
 "metadata": {
  "kernelspec": {
   "display_name": "Python [conda env:base] *",
   "language": "python",
   "name": "conda-base-py"
  },
  "language_info": {
   "codemirror_mode": {
    "name": "ipython",
    "version": 3
   },
   "file_extension": ".py",
   "mimetype": "text/x-python",
   "name": "python",
   "nbconvert_exporter": "python",
   "pygments_lexer": "ipython3",
   "version": "3.12.7"
  }
 },
 "nbformat": 4,
 "nbformat_minor": 5
}
