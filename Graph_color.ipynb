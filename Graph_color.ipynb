{
 "cells": [
  {
   "cell_type": "code",
   "execution_count": 1,
   "id": "a54c40d2-e7b5-439e-9c9d-26cf47996a73",
   "metadata": {},
   "outputs": [
    {
     "name": "stdin",
     "output_type": "stream",
     "text": [
      "Enter number of nodes:  4\n"
     ]
    },
    {
     "name": "stdout",
     "output_type": "stream",
     "text": [
      "Enter the names of the nodes (e.g., A B C):\n"
     ]
    },
    {
     "name": "stdin",
     "output_type": "stream",
     "text": [
      " A B C D\n",
      "Enter number of edges:  4\n"
     ]
    },
    {
     "name": "stdout",
     "output_type": "stream",
     "text": [
      "Enter edges as pairs of node names (e.g., A B):\n"
     ]
    },
    {
     "name": "stdin",
     "output_type": "stream",
     "text": [
      " A B\n",
      " A C\n",
      " B C\n",
      " C D\n"
     ]
    },
    {
     "name": "stdout",
     "output_type": "stream",
     "text": [
      "Adding a new color: green because existing colors are not sufficient.\n",
      "Adding a new color: blue because existing colors are not sufficient.\n",
      "\n",
      "Final Assignment of Colors:\n",
      "Node A: red\n",
      "Node B: green\n",
      "Node C: blue\n",
      "Node D: red\n",
      "\n",
      "Total colors used: 3\n"
     ]
    },
    {
     "data": {
      "image/png": "[encoded data removed]",
      "text/plain": [
       "<Figure size 640x480 with 1 Axes>"
      ]
     },
     "metadata": {},
     "output_type": "display_data"
    },
    {
     "name": "stdin",
     "output_type": "stream",
     "text": [
      "\n",
      "Do you want to color another graph? (yes/no):  no\n"
     ]
    },
    {
     "name": "stdout",
     "output_type": "stream",
     "text": [
      "Exiting. Goodbye!\n"
     ]
    }
   ],
   "source": [
    "import matplotlib.pyplot as plt\n",
    "import networkx as nx\n",
    "\n",
    "# List of actual color names to use (can extend this list)\n",
    "color_palette = [\n",
    "    \"red\", \"green\", \"blue\", \"yellow\", \"orange\", \"purple\",\n",
    "    \"pink\", \"cyan\", \"magenta\", \"brown\", \"lime\", \"olive\",\n",
    "    \"navy\", \"grey\", \"teal\", \"indigo\", \"maroon\", \"turquoise\"\n",
    "]\n",
    "\n",
    "def is_valid(node, color, assignment, graph):\n",
    "    for neighbor in graph[node]:\n",
    "        if neighbor in assignment and assignment[neighbor] == color:\n",
    "            return False\n",
    "    return True\n",
    "\n",
    "def backtrack(graph, colors, assignment, node_order, idx):\n",
    "    if idx == len(node_order):\n",
    "        return True\n",
    "\n",
    "    node = node_order[idx]\n",
    "    for color in colors:\n",
    "        if is_valid(node, color, assignment, graph):\n",
    "            assignment[node] = color\n",
    "            if backtrack(graph, colors, assignment, node_order, idx + 1):\n",
    "                return True\n",
    "            del assignment[node]\n",
    "\n",
    "    # Add new color if no valid color found\n",
    "    if len(colors) < len(color_palette):\n",
    "        new_color = color_palette[len(colors)]\n",
    "        print(f\"Adding a new color: {new_color} because existing colors are not sufficient.\")\n",
    "        colors.append(new_color)\n",
    "        assignment[node] = new_color\n",
    "        if backtrack(graph, colors, assignment, node_order, idx + 1):\n",
    "            return True\n",
    "        del assignment[node]\n",
    "        colors.pop()\n",
    "    else:\n",
    "        print(\"Ran out of predefined colors.\")\n",
    "    return False\n",
    "\n",
    "def visualize_graph(graph, assignment):\n",
    "    G = nx.Graph()\n",
    "    for node, neighbors in graph.items():\n",
    "        for neighbor in neighbors:\n",
    "            G.add_edge(node, neighbor)\n",
    "\n",
    "    pos = nx.spring_layout(G)\n",
    "    node_colors = [assignment.get(node, \"white\") for node in G.nodes()]\n",
    "    nx.draw(G, pos, with_labels=True, node_color=node_colors, node_size=800, font_size=12, edge_color='gray')\n",
    "    plt.title(\"Graph Coloring Visualization\")\n",
    "    plt.show()\n",
    "\n",
    "def main():\n",
    "    n = int(input(\"Enter number of nodes: \"))\n",
    "    print(\"Enter the names of the nodes (e.g., A B C):\")\n",
    "    node_names = input().split()\n",
    "\n",
    "    if len(node_names) != n:\n",
    "        print(\"Number of node names does not match the number of nodes.\")\n",
    "        return\n",
    "\n",
    "    graph = {name: [] for name in node_names}\n",
    "\n",
    "    e = int(input(\"Enter number of edges: \"))\n",
    "    print(\"Enter edges as pairs of node names (e.g., A B):\")\n",
    "    for _ in range(e):\n",
    "        u, v = input().split()\n",
    "        if u in graph and v in graph:\n",
    "            graph[u].append(v)\n",
    "            graph[v].append(u)\n",
    "        else:\n",
    "            print(f\"Invalid edge ({u}, {v}). Node not found.\")\n",
    "            return\n",
    "\n",
    "    colors = [color_palette[0]]\n",
    "    assignment = {}\n",
    "    node_order = list(graph.keys())\n",
    "\n",
    "    success = backtrack(graph, colors, assignment, node_order, 0)\n",
    "\n",
    "    if success:\n",
    "        print(\"\\nFinal Assignment of Colors:\")\n",
    "        for node, color in assignment.items():\n",
    "            print(f\"Node {node}: {color}\")\n",
    "        print(f\"\\nTotal colors used: {len(set(assignment.values()))}\")\n",
    "        visualize_graph(graph, assignment)\n",
    "    else:\n",
    "        print(\"Failed to color the graph with constraints.\")\n",
    "\n",
    "if __name__ == \"__main__\":\n",
    "    while True:\n",
    "        main()\n",
    "        again = input(\"\\nDo you want to color another graph? (yes/no): \").strip().lower()\n",
    "        if again not in ['yes', 'y']:\n",
    "            print(\"Exiting. Goodbye!\")\n",
    "            break\n",
    "        print(\"\\n-----------------------\\n\")\n"
   ]
  },
  {
   "cell_type": "code",
   "execution_count": null,
   "id": "54f7f7dd-0c36-485f-a6c1-bb6bd2de12eb",
   "metadata": {},
   "outputs": [],
   "source": []
  }
 ],
 "metadata": {
  "kernelspec": {
   "display_name": "Python [conda env:base] *",
   "language": "python",
   "name": "conda-base-py"
  },
  "language_info": {
   "codemirror_mode": {
    "name": "ipython",
    "version": 3
   },
   "file_extension": ".py",
   "mimetype": "text/x-python",
   "name": "python",
   "nbconvert_exporter": "python",
   "pygments_lexer": "ipython3",
   "version": "3.12.7"
  }
 },
 "nbformat": 4,
 "nbformat_minor": 5
}
