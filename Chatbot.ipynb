{
 "cells": [
  {
   "cell_type": "code",
   "execution_count": null,
   "id": "c43dae08-f0e3-4f40-a220-77b62c699819",
   "metadata": {},
   "outputs": [
    {
     "name": "stdout",
     "output_type": "stream",
     "text": [
      "Bot: Hello! I'm ChatBot. Type something to start chatting. Type 'bye' to exit.\n"
     ]
    },
    {
     "name": "stdin",
     "output_type": "stream",
     "text": [
      "You:  hi\n"
     ]
    },
    {
     "name": "stdout",
     "output_type": "stream",
     "text": [
      "Bot: Hi! How can I assist you?\n"
     ]
    },
    {
     "name": "stdin",
     "output_type": "stream",
     "text": [
      "You:  how are you\n"
     ]
    },
    {
     "name": "stdout",
     "output_type": "stream",
     "text": [
      "Bot: I'm doing well, thank you for asking! How are you?\n"
     ]
    },
    {
     "name": "stdin",
     "output_type": "stream",
     "text": [
      "You:  i am fine\n"
     ]
    },
    {
     "name": "stdout",
     "output_type": "stream",
     "text": [
      "Bot: Sorry, I didn't quite understand that. Can you try asking something else?\n"
     ]
    },
    {
     "name": "stdin",
     "output_type": "stream",
     "text": [
      "You:  fine\n"
     ]
    },
    {
     "name": "stdout",
     "output_type": "stream",
     "text": [
      "Bot: Sorry, I didn't quite understand that. Can you try asking something else?\n"
     ]
    },
    {
     "name": "stdin",
     "output_type": "stream",
     "text": [
      "You:  what do you like\n"
     ]
    },
    {
     "name": "stdout",
     "output_type": "stream",
     "text": [
      "Bot: i love talking to you.\n"
     ]
    },
    {
     "name": "stdin",
     "output_type": "stream",
     "text": [
      "You:  what do you like\n"
     ]
    },
    {
     "name": "stdout",
     "output_type": "stream",
     "text": [
      "Bot: i love talking to you.\n"
     ]
    }
   ],
   "source": [
    "import random\n",
    "\n",
    "def get_bot_response(user_msg):\n",
    "    user_msg = user_msg.lower()\n",
    "\n",
    "    # Greetings and farewells\n",
    "    greetings = ['hi', 'hello', 'hey']\n",
    "    farewells = ['bye', 'goodbye', 'see you']\n",
    "\n",
    "    # Common questions\n",
    "    questions = ['how are you', 'what is your name', 'what can you do']\n",
    "\n",
    "    # Responses to different situations\n",
    "    if any(greet in user_msg for greet in greetings):\n",
    "        return random.choice([\"Hello!\", \"Hey there!\", \"Hi! How can I assist you?\"])\n",
    "    \n",
    "    elif 'how are you' in user_msg:\n",
    "        return \"I'm doing well, thank you for asking! How are you?\"\n",
    "\n",
    "    elif 'your name' in user_msg:\n",
    "        return \"I'm ChatBot, here to assist you.\"\n",
    "\n",
    "    elif 'what can you do' in user_msg:\n",
    "        return \"I can assist with basic conversations. Feel free to ask me anything!\"\n",
    "\n",
    "    elif any(bye in user_msg for bye in farewells):\n",
    "        return random.choice([\"Goodbye!\", \"See you later!\", \"Take care!\"])\n",
    "\n",
    "    elif 'thank you' in user_msg or 'thanks' in user_msg:\n",
    "        return \"You're welcome! Let me know if you need anything else.\"\n",
    "\n",
    "    elif 'how old are you' in user_msg:\n",
    "        return \"I don't have an age, as I'm just a bot!\"\n",
    "\n",
    "    elif 'where are you from' in user_msg:\n",
    "        return \"I'm from the cloud! I exist in the digital world.\"\n",
    "        \n",
    "    elif 'what do you like' in user_msg:\n",
    "        return \"i love talking to you.\"\n",
    "\n",
    "    elif 'what do you like' in user_msg:\n",
    "        return \"I don't have preferences, but I enjoy helping you with questions!\"\n",
    "\n",
    "    else:\n",
    "        return \"Sorry, I didn't quite understand that. Can you try asking something else?\"\n",
    "\n",
    "def main():\n",
    "    print(\"Bot: Hello! I'm ChatBot. Type something to start chatting. Type 'bye' to exit.\")\n",
    "\n",
    "    while True:\n",
    "        user_input = input(\"You: \").strip()\n",
    "        if user_input.lower() in ['bye', 'exit', 'quit']:\n",
    "            print(\"Bot: Goodbye! Have a nice day.\")\n",
    "            break\n",
    "\n",
    "        bot_reply = get_bot_response(user_input)\n",
    "        print(\"Bot:\", bot_reply)\n",
    "\n",
    "if __name__ == \"__main__\":\n",
    "    main()\n"
   ]
  },
  {
   "cell_type": "code",
   "execution_count": null,
   "id": "c75d5b21-d8aa-47e9-92f0-06409bd17a0c",
   "metadata": {},
   "outputs": [],
   "source": []
  }
 ],
 "metadata": {
  "kernelspec": {
   "display_name": "Python [conda env:base] *",
   "language": "python",
   "name": "conda-base-py"
  },
  "language_info": {
   "codemirror_mode": {
    "name": "ipython",
    "version": 3
   },
   "file_extension": ".py",
   "mimetype": "text/x-python",
   "name": "python",
   "nbconvert_exporter": "python",
   "pygments_lexer": "ipython3",
   "version": "3.12.7"
  }
 },
 "nbformat": 4,
 "nbformat_minor": 5
}
