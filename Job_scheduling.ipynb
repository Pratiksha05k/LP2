{
 "cells": [
  {
   "cell_type": "code",
   "execution_count": 1,
   "id": "b3c8ade0-583d-4913-a605-39d65d138907",
   "metadata": {},
   "outputs": [
    {
     "name": "stdin",
     "output_type": "stream",
     "text": [
      "Enter number of jobs:  4\n",
      "Enter job ID for job 1:  p1\n",
      "Enter deadline for job 1:  2\n",
      "Enter profit for job 1:  4\n",
      "Enter job ID for job 2:  p2\n",
      "Enter deadline for job 2:  1\n",
      "Enter profit for job 2:  6\n",
      "Enter job ID for job 3:  p3\n",
      "Enter deadline for job 3:  4\n",
      "Enter profit for job 3:  7\n",
      "Enter job ID for job 4:  p4\n",
      "Enter deadline for job 4:  3\n",
      "Enter profit for job 4:  8\n"
     ]
    },
    {
     "name": "stdout",
     "output_type": "stream",
     "text": [
      "Job scheduling based on highest profit first...\n",
      "Considering job ('p4', 3, 8) with profit 8.\n",
      "Job ('p4', 3, 8) is scheduled in slot 2.\n",
      "Considering job ('p3', 4, 7) with profit 7.\n",
      "Job ('p3', 4, 7) is scheduled in slot 3.\n",
      "Considering job ('p2', 1, 6) with profit 6.\n",
      "Job ('p2', 1, 6) is scheduled in slot 0.\n",
      "Considering job ('p1', 2, 4) with profit 4.\n",
      "Job ('p1', 2, 4) is scheduled in slot 1.\n",
      "Job Scheduling completed.\n"
     ]
    },
    {
     "data": {
      "image/png": "[encoded data removed]",
      "text/plain": [
       "<Figure size 640x480 with 1 Axes>"
      ]
     },
     "metadata": {},
     "output_type": "display_data"
    },
    {
     "name": "stdout",
     "output_type": "stream",
     "text": [
      "Scheduled Jobs:\n",
      "('p2', 1, 6)\n",
      "('p1', 2, 4)\n",
      "('p4', 3, 8)\n",
      "('p3', 4, 7)\n"
     ]
    }
   ],
   "source": [
    "import matplotlib.pyplot as plt\n",
    "\n",
    "def job_scheduling(jobs):\n",
    "    jobs.sort(key=lambda x: x[2], reverse=True)\n",
    "    print(\"Job scheduling based on highest profit first...\")\n",
    "\n",
    "    n = len(jobs)\n",
    "    slots = [-1] * n\n",
    "    result = [None] * n\n",
    "\n",
    "    for i in range(n):\n",
    "        print(f\"Considering job {jobs[i]} with profit {jobs[i][2]}.\")\n",
    "        for j in range(min(n, jobs[i][1]) - 1, -1, -1):\n",
    "            if slots[j] == -1:\n",
    "                slots[j] = i\n",
    "                result[j] = jobs[i]\n",
    "                print(f\"Job {jobs[i]} is scheduled in slot {j}.\")\n",
    "                break\n",
    "        else:\n",
    "            print(f\"Job {jobs[i]} could not be scheduled due to full slots.\")\n",
    "\n",
    "    print(\"Job Scheduling completed.\")\n",
    "\n",
    "    scheduled_jobs = [result[j] if result[j] else None for j in range(n)]\n",
    "    fig, ax = plt.subplots()\n",
    "    ax.bar(range(n), [job[2] if job else 0 for job in scheduled_jobs], color=\"green\")\n",
    "    plt.title(\"Final Job Scheduling Result\")\n",
    "    plt.show()\n",
    "\n",
    "    return result\n",
    "\n",
    "if __name__ == \"__main__\":\n",
    "    n = int(input(\"Enter number of jobs: \"))\n",
    "    jobs = []\n",
    "    for i in range(n):\n",
    "        job_id = input(f\"Enter job ID for job {i + 1}: \")\n",
    "        deadline = int(input(f\"Enter deadline for job {i + 1}: \"))\n",
    "        profit = int(input(f\"Enter profit for job {i + 1}: \"))\n",
    "        jobs.append((job_id, deadline, profit))\n",
    "    scheduled_jobs = job_scheduling(jobs)\n",
    "    print(\"Scheduled Jobs:\")\n",
    "    for job in scheduled_jobs:\n",
    "        print(job if job else \"No job scheduled\")\n"
   ]
  },
  {
   "cell_type": "code",
   "execution_count": null,
   "id": "a983fbc0-edf5-4561-b51d-5f908356652b",
   "metadata": {},
   "outputs": [],
   "source": []
  }
 ],
 "metadata": {
  "kernelspec": {
   "display_name": "Python [conda env:base] *",
   "language": "python",
   "name": "conda-base-py"
  },
  "language_info": {
   "codemirror_mode": {
    "name": "ipython",
    "version": 3
   },
   "file_extension": ".py",
   "mimetype": "text/x-python",
   "name": "python",
   "nbconvert_exporter": "python",
   "pygments_lexer": "ipython3",
   "version": "3.12.7"
  }
 },
 "nbformat": 4,
 "nbformat_minor": 5
}
