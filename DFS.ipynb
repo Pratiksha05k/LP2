{
 "cells": [
  {
   "cell_type": "code",
   "execution_count": 1,
   "id": "655ecb70-47e5-45e2-a591-bec4659f981c",
   "metadata": {},
   "outputs": [
    {
     "name": "stdin",
     "output_type": "stream",
     "text": [
      "Enter the number of nodes:  5\n",
      "Enter node name:  1\n",
      "Enter node name:  2\n",
      "Enter node name:  3\n",
      "Enter node name:  4\n",
      "Enter node name:  5\n",
      "Enter the number of edges:  5\n",
      "Enter edge (node1 node2):  1 2\n",
      "Enter edge (node1 node2):  1 3\n",
      "Enter edge (node1 node2):  2 4\n",
      "Enter edge (node1 node2):  3 5\n",
      "Enter edge (node1 node2):  4 5\n",
      "Enter the start node:  1\n"
     ]
    },
    {
     "name": "stdout",
     "output_type": "stream",
     "text": [
      "\n",
      "--- DFS Traversal ---\n",
      "Stack: ['1']\n",
      "Visiting: 1\n",
      "Stack: ['3', '2']\n",
      "Visiting: 2\n",
      "Stack: ['3', '4']\n",
      "Visiting: 4\n",
      "Stack: ['3', '5']\n",
      "Visiting: 5\n",
      "Stack: ['3', '3']\n",
      "Visiting: 3\n",
      "Stack: ['3']\n",
      "DFS: ['1', '2', '4', '5', '3']\n"
     ]
    }
   ],
   "source": [
    "def dfs(graph, start):\n",
    "    visited = set()\n",
    "    stack = [start]\n",
    "    dfs_result = []\n",
    "\n",
    "    print(\"\\n--- DFS Traversal ---\")\n",
    "    print(f\"Stack: {stack}\")\n",
    "\n",
    "    while stack:\n",
    "        vertex = stack.pop()\n",
    "        if vertex not in visited:\n",
    "            visited.add(vertex)\n",
    "            dfs_result.append(vertex)\n",
    "            print(f\"Visiting: {vertex}\")\n",
    "            \n",
    "            # Push neighbors in reverse to maintain order\n",
    "            for neighbor in reversed(graph[vertex]):\n",
    "                if neighbor not in visited:\n",
    "                    stack.append(neighbor)\n",
    "            print(f\"Stack: {stack}\")\n",
    "    \n",
    "    print(f\"DFS: {dfs_result}\")\n",
    "    return dfs_result\n",
    "def main():\n",
    "    # Take user input for graph structure\n",
    "    graph = {}\n",
    "    n = int(input(\"Enter the number of nodes: \"))\n",
    "    \n",
    "    for _ in range(n):\n",
    "        node = input(\"Enter node name: \")\n",
    "        graph[node] = []\n",
    "    \n",
    "    edges = int(input(\"Enter the number of edges: \"))\n",
    "    \n",
    "    for _ in range(edges):\n",
    "        node1, node2 = input(\"Enter edge (node1 node2): \").split()\n",
    "        graph[node1].append(node2)\n",
    "        graph[node2].append(node1)  # Undirected graph\n",
    "    \n",
    "    start_node = input(\"Enter the start node: \")\n",
    "\n",
    "    # DFS and BFS Traversals\n",
    "    dfs(graph, start_node)\n",
    "    \n",
    "if __name__ == \"__main__\":\n",
    "    main()\n"
   ]
  },
  {
   "cell_type": "code",
   "execution_count": null,
   "id": "6a62408c-054b-4b98-be33-2839d2de84a3",
   "metadata": {},
   "outputs": [],
   "source": []
  }
 ],
 "metadata": {
  "kernelspec": {
   "display_name": "Python [conda env:base] *",
   "language": "python",
   "name": "conda-base-py"
  },
  "language_info": {
   "codemirror_mode": {
    "name": "ipython",
    "version": 3
   },
   "file_extension": ".py",
   "mimetype": "text/x-python",
   "name": "python",
   "nbconvert_exporter": "python",
   "pygments_lexer": "ipython3",
   "version": "3.12.7"
  }
 },
 "nbformat": 4,
 "nbformat_minor": 5
}
